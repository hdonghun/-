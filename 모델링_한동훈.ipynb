{
  "nbformat": 4,
  "nbformat_minor": 0,
  "metadata": {
    "colab": {
      "private_outputs": true,
      "provenance": [],
      "machine_shape": "hm",
      "toc_visible": true
    },
    "kernelspec": {
      "name": "python3",
      "display_name": "Python 3"
    },
    "language_info": {
      "name": "python"
    },
    "accelerator": "TPU"
  },
  "cells": [
    {
      "cell_type": "code",
      "source": [
        "!pip uninstall tensorflow"
      ],
      "metadata": {
        "id": "8PBOCgRu4wRV"
      },
      "execution_count": null,
      "outputs": []
    },
    {
      "cell_type": "code",
      "source": [
        "!pip install tensorflow==2.9"
      ],
      "metadata": {
        "id": "B09Jxs6Q4wJ4"
      },
      "execution_count": null,
      "outputs": []
    },
    {
      "cell_type": "code",
      "source": [
        "import tensorflow as tf\n",
        "\n",
        "print(\"TensorFlow 버전:\", tf.__version__)"
      ],
      "metadata": {
        "id": "erbWYcHF4xZO"
      },
      "execution_count": null,
      "outputs": []
    },
    {
      "cell_type": "markdown",
      "source": [
        "# 데이터 불러오기"
      ],
      "metadata": {
        "id": "-XnizIBmhxI6"
      }
    },
    {
      "cell_type": "code",
      "source": [
        "from google.colab import drive\n",
        "drive.mount('/content/drive')"
      ],
      "metadata": {
        "id": "s-X8DW2s2hzL"
      },
      "execution_count": null,
      "outputs": []
    },
    {
      "cell_type": "code",
      "source": [
        "import numpy as np"
      ],
      "metadata": {
        "id": "Dz7OmkIz29Vo"
      },
      "execution_count": null,
      "outputs": []
    },
    {
      "cell_type": "code",
      "execution_count": null,
      "metadata": {
        "id": "Ax-JLPMa2Enb"
      },
      "outputs": [],
      "source": [
        "import pickle\n",
        "with open('/content/drive/Shareddrives/이미지 인식 프로젝트/데이터/x_train.pkl','rb') as f:\n",
        "    x_train=pickle.load(f)"
      ]
    },
    {
      "cell_type": "code",
      "source": [
        "# # zero-centering\n",
        "# compute_mean = lambda imgs : np.mean(imgs, axis=0)"
      ],
      "metadata": {
        "id": "--xbtgKOm1hg"
      },
      "execution_count": null,
      "outputs": []
    },
    {
      "cell_type": "code",
      "source": [
        "x_train.shape"
      ],
      "metadata": {
        "id": "fF8fDF9t3BeW"
      },
      "execution_count": null,
      "outputs": []
    },
    {
      "cell_type": "code",
      "source": [
        "# mean_img = compute_mean(x_train)\n",
        "# mean_img.shape"
      ],
      "metadata": {
        "id": "PrPHxt8hndYj"
      },
      "execution_count": null,
      "outputs": []
    },
    {
      "cell_type": "code",
      "source": [
        "# sub_mean_img = lambda image : image.astype('int8') - mean_img.astype('int8')"
      ],
      "metadata": {
        "id": "eVS8nO_0niqB"
      },
      "execution_count": null,
      "outputs": []
    },
    {
      "cell_type": "markdown",
      "source": [
        "# Train, Test,Val 데이터 증강하기"
      ],
      "metadata": {
        "id": "PGjpd7Cn-qkF"
      }
    },
    {
      "cell_type": "code",
      "source": [
        "from tensorflow.keras.preprocessing.image import ImageDataGenerator"
      ],
      "metadata": {
        "id": "YMiZBYryzF6H"
      },
      "execution_count": null,
      "outputs": []
    },
    {
      "cell_type": "code",
      "source": [
        " # CNN 용\n",
        "# train_datagen = ImageDataGenerator(\n",
        "#     rotation_range=40,\n",
        "#     width_shift_range=0.2,\n",
        "#     height_shift_range=0.2,\n",
        "#     shear_range=0.2,\n",
        "#     zoom_range=0.2,\n",
        "#     horizontal_flip=True,\n",
        "#     vertical_flip=True,\n",
        "#     preprocessing_function=sub_mean_img,\n",
        "\n",
        "# )\n",
        "\n",
        "# val_datagen = ImageDataGenerator(\n",
        "#     preprocessing_function=sub_mean_img)\n",
        "\n",
        "# test_datagen = ImageDataGenerator(\n",
        "#     preprocessing_function=sub_mean_img)"
      ],
      "metadata": {
        "id": "FX4-qpm3cJaf"
      },
      "execution_count": null,
      "outputs": []
    },
    {
      "cell_type": "code",
      "source": [
        "# Efficientnet 용\n",
        "train_datagen = ImageDataGenerator(\n",
        "    rotation_range=40,\n",
        "    width_shift_range=0.2,\n",
        "    height_shift_range=0.2,\n",
        "    shear_range=0.2,\n",
        "    zoom_range=0.2,\n",
        "    horizontal_flip=True,\n",
        "    vertical_flip=True,\n",
        "    # preprocessing_function=sub_mean_img\n",
        ")\n",
        "\n",
        "val_datagen = ImageDataGenerator()\n",
        "\n",
        "test_datagen = ImageDataGenerator()"
      ],
      "metadata": {
        "id": "RhIaZSWeCJ4U"
      },
      "execution_count": null,
      "outputs": []
    },
    {
      "cell_type": "code",
      "source": [
        "batch_size=128"
      ],
      "metadata": {
        "id": "hdOJ5tCQ7dXj"
      },
      "execution_count": null,
      "outputs": []
    },
    {
      "cell_type": "code",
      "source": [
        "import os"
      ],
      "metadata": {
        "id": "lqe4WS2eCM8D"
      },
      "execution_count": null,
      "outputs": []
    },
    {
      "cell_type": "code",
      "source": [
        "import os\n",
        "\n",
        "# 디렉토리 경로 설정\n",
        "# directory_path = '/content/drive/Shareddrives/이미지 인식 프로젝트/데이터//train' # CNN\n",
        "directory_path = '/content/drive/Shareddrives/이미지 인식 프로젝트/데이터/dataset300/train' # EfficientNet0\n",
        "\n",
        "# 'os.listdir'로 디렉토리 내 파일 목록을 가져오기\n",
        "file_list = os.listdir(directory_path)\n",
        "\n",
        "# 파일 목록을 'train_image' 변수에 할당\n",
        "train_image = file_list\n",
        "train_image"
      ],
      "metadata": {
        "id": "8Yg7LqEHWzka"
      },
      "execution_count": null,
      "outputs": []
    },
    {
      "cell_type": "code",
      "source": [
        "import os\n",
        "\n",
        "# 디렉토리 경로 설정\n",
        "# directory_path = '/content/drive/Shareddrives/이미지 인식 프로젝트/데이터/dataset224_new/val' # CNN\n",
        "directory_path = '/content/drive/Shareddrives/이미지 인식 프로젝트/데이터/dataset300/val'# EfficientNet0\n",
        "\n",
        "\n",
        "# 'os.listdir'로 디렉토리 내 파일 목록을 가져오기\n",
        "file_list = os.listdir(directory_path)\n",
        "\n",
        "# 파일 목록을 'train_image' 변수에 할당\n",
        "val_image = file_list\n",
        "val_image"
      ],
      "metadata": {
        "id": "pQT6-ngoW6D3"
      },
      "execution_count": null,
      "outputs": []
    },
    {
      "cell_type": "code",
      "source": [
        "import os\n",
        "\n",
        "# 디렉토리 경로 설정\n",
        "# directory_path = '/content/drive/Shareddrives/이미지 인식 프로젝트/데이터/dataset224_new/val'# CNN\n",
        "directory_path = '/content/drive/Shareddrives/이미지 인식 프로젝트/데이터/dataset300/test'# EfficientNet0\n",
        "\n",
        "\n",
        "# 'os.listdir'로 디렉토리 내 파일 목록을 가져오기\n",
        "file_list = os.listdir(directory_path)\n",
        "\n",
        "# 파일 목록을 'train_image' 변수에 할당\n",
        "test_image = file_list\n",
        "test_image"
      ],
      "metadata": {
        "id": "FDJL-h6LW_UH"
      },
      "execution_count": null,
      "outputs": []
    },
    {
      "cell_type": "code",
      "source": [
        "train_generator = train_datagen.flow_from_directory('/content/drive/Shareddrives/이미지 인식 프로젝트/데이터/dataset300/train',batch_size=batch_size, target_size=(240, 240))\n",
        "val_generator = val_datagen.flow_from_directory('/content/drive/Shareddrives/이미지 인식 프로젝트/데이터/dataset300/val',batch_size=batch_size, target_size=(240, 240))\n",
        "test_generator = test_datagen.flow_from_directory('/content/drive/Shareddrives/이미지 인식 프로젝트/데이터/dataset300/test',batch_size=batch_size, target_size=(240, 240))"
      ],
      "metadata": {
        "id": "1uIlQxB56HZ5"
      },
      "execution_count": null,
      "outputs": []
    },
    {
      "cell_type": "markdown",
      "source": [
        "# 모델링 시작"
      ],
      "metadata": {
        "id": "Na5gzknC3JVn"
      }
    },
    {
      "cell_type": "markdown",
      "source": [
        "## 기본 CNN 모델\n",
        "CNN의 accuracy가 20퍼 중반으로 나와서, 버림"
      ],
      "metadata": {
        "id": "knuibrTwXs-a"
      }
    },
    {
      "cell_type": "code",
      "source": [
        "# import tensorflow as tf\n",
        "# from tensorflow import keras\n",
        "# from keras.models import Sequential\n",
        "# from keras.layers import Conv2D, MaxPooling2D, Flatten, Dense, Dropout\n",
        "# from keras.optimizers import Adam\n",
        "# from keras.preprocessing.image import ImageDataGenerator\n",
        "\n",
        "\n",
        "# # # 데이터 전처리 및 증강\n",
        "# # train_datagen = ImageDataGenerator(\n",
        "# #     rescale=1.0/255,\n",
        "# #     rotation_range=40,\n",
        "# #     width_shift_range=0.2,\n",
        "# #     height_shift_range=0.2,\n",
        "# #     shear_range=0.2,\n",
        "# #     zoom_range=0.2,\n",
        "# #     horizontal_flip=True,\n",
        "# #     fill_mode='nearest'\n",
        "# # )\n",
        "\n",
        "# # train_generator = train_datagen.flow_from_directory(\n",
        "# #     train_image_path,\n",
        "# #     target_size=(224, 224),\n",
        "# #     batch_size=32,\n",
        "# #     class_mode='categorical'\n",
        "# # )\n",
        "\n",
        "# # val_datagen = ImageDataGenerator(rescale=1.0/255)\n",
        "\n",
        "# # val_generator = val_datagen.flow_from_directory(\n",
        "# #     val_image_path,\n",
        "# #     target_size=(224, 224),\n",
        "# #     batch_size=32,\n",
        "# #     class_mode='categorical'\n",
        "# # )\n",
        "\n",
        "# # 모델 생성\n",
        "# model = Sequential()\n",
        "\n",
        "# model.add(Conv2D(64, (3, 3), activation='relu', input_shape=(224, 224, 3)))\n",
        "# model.add(MaxPooling2D((2, 2)))\n",
        "\n",
        "# model.add(Conv2D(128, (3, 3), activation='relu'))\n",
        "# model.add(MaxPooling2D((2, 2)))\n",
        "\n",
        "# model.add(Flatten())\n",
        "# model.add(Dense(256, activation='relu'))\n",
        "# model.add(Dropout(0.5))\n",
        "# model.add(Dense(9, activation='softmax'))  # 클래스 수에 맞게 설정\n",
        "\n",
        "# # 모델 컴파일\n",
        "# model.compile(optimizer=Adam(learning_rate=0.0001), loss='categorical_crossentropy', metrics=['accuracy'])\n",
        "\n",
        "# # EarlyStopping 설정 (필요하다면 추가)\n",
        "# es = keras.callbacks.EarlyStopping(monitor='val_loss', mode='min', verbose=1, patience=5, restore_best_weights=True)\n",
        "\n",
        "# # 모델 학습\n",
        "# history = model.fit(train_generator, validation_data=val_generator, epochs=20, callbacks=[es])  # epochs를 필요에 따라 조절\n",
        "\n",
        "\n",
        "# # # 테스트 데이터셋 평가\n",
        "# # test_datagen = ImageDataGenerator(rescale=1.0/255)\n",
        "\n",
        "# # test_generator = test_datagen.flow_from_directory(\n",
        "# #     test_image_path,\n",
        "# #     target_size=(224, 224),\n",
        "# #     batch_size=32,\n",
        "# #     class_mode='categorical'\n",
        "# # )\n",
        "\n",
        "\n",
        "# test_loss, test_accuracy = model.evaluate(test_generator)\n",
        "# print(\"Test accuracy: {:.2f}%\".format(test_accuracy * 100))"
      ],
      "metadata": {
        "id": "SF7d5iWf0TKG"
      },
      "execution_count": null,
      "outputs": []
    },
    {
      "cell_type": "code",
      "source": [
        "# test_data_generator = keras.preprocessing.image.ImageDataGenerator(rescale=1.0/255)\n",
        "# test_generator = test_data_generator.flow_from_directory(test_image_path, target_size=(224, 224), batch_size=300, class_mode='categorical')"
      ],
      "metadata": {
        "id": "ZbXp_6KkIsCz"
      },
      "execution_count": null,
      "outputs": []
    },
    {
      "cell_type": "code",
      "source": [
        "# # 모델 평가\n",
        "# test_loss, test_accuracy = model.evaluate(val_generator)\n",
        "# print(f\"Test Loss: {test_loss}, Test Accuracy: {test_accuracy}\")"
      ],
      "metadata": {
        "id": "KapirhqNXefo"
      },
      "execution_count": null,
      "outputs": []
    },
    {
      "cell_type": "code",
      "source": [
        "# model.save('/content/drive/Shareddrives/이미지 인식 프로젝트/모델/한동훈_모델링/CNN.keras')"
      ],
      "metadata": {
        "id": "Xc-RDD6YdE-P"
      },
      "execution_count": null,
      "outputs": []
    },
    {
      "cell_type": "markdown",
      "source": [
        "### fine-tune"
      ],
      "metadata": {
        "id": "0kkTafByaPyH"
      }
    },
    {
      "cell_type": "code",
      "source": [
        "from keras.callbacks import EarlyStopping\n",
        "\n",
        "es = EarlyStopping(monitor='val_accuracy', mode='max', verbose=1, patience=5, restore_best_weights=True)"
      ],
      "metadata": {
        "id": "dsN9kpY1ZVig"
      },
      "execution_count": null,
      "outputs": []
    },
    {
      "cell_type": "code",
      "source": [
        "# 마지막 1개의 층을 제외한 나머지 층을 동결\n",
        "for layer in model.layers[:-1]:\n",
        "    layer.trainable = False\n",
        "\n",
        "# 동결된 층을 제외한 나머지 층을 학습\n",
        "model.compile(optimizer='adam', loss='categorical_crossentropy', metrics=['accuracy'])\n",
        "history_fine_tune = model.fit(train_generator, validation_data=val_generator, epochs=100, callbacks=[es])\n"
      ],
      "metadata": {
        "id": "BtVVdeobaZBY"
      },
      "execution_count": null,
      "outputs": []
    },
    {
      "cell_type": "code",
      "source": [
        "loss, accuracy = model.evaluate(test_generator)\n",
        "print(\"평가 손실:\", loss)\n",
        "print(\"평가 정확도:\", accuracy)\n",
        "\n",
        "# 모델 저장\n",
        "model.save(\"hdh_cnn_fine-tune[:-1].h5\")"
      ],
      "metadata": {
        "id": "X1mVVBluHl3R"
      },
      "execution_count": null,
      "outputs": []
    },
    {
      "cell_type": "code",
      "source": [
        "# 마지막 2개의 층을 제외한 나머지 층을 동결\n",
        "for layer in model.layers[:-2]:\n",
        "    layer.trainable = False\n",
        "\n",
        "# 동결된 층을 제외한 나머지 층을 학습\n",
        "model.compile(optimizer='adam', loss='categorical_crossentropy', metrics=['accuracy'])\n",
        "history_fine_tune = model.fit(train_generator, validation_data=val_generator, epochs=100, callbacks=[es])\n"
      ],
      "metadata": {
        "id": "r1V0TgFGaZE_"
      },
      "execution_count": null,
      "outputs": []
    },
    {
      "cell_type": "code",
      "source": [
        "loss, accuracy = model.evaluate(test_generator)\n",
        "print(\"평가 손실:\", loss)\n",
        "print(\"평가 정확도:\", accuracy)\n",
        "\n",
        "# 모델 저장\n",
        "model.save(\"hdh_cnn_fine-tune[:-2].h5\")"
      ],
      "metadata": {
        "id": "8q-jUC9mJgNm"
      },
      "execution_count": null,
      "outputs": []
    },
    {
      "cell_type": "code",
      "source": [
        "# 전체 모델을 fine-tuning하고 싶을 때\n",
        "# 기존 모델의 레이어를 동결 해제\n",
        "model.trainable = True\n",
        "\n",
        "# 새로운 learning rate로 모델을 컴파일\n",
        "model.compile(optimizer=tf.keras.optimizers.Adam(learning_rate=0.00001),\n",
        "              loss='categorical_crossentropy',\n",
        "              metrics=['accuracy'])\n",
        "\n",
        "\n",
        "# 전체 모델 학습\n",
        "history_full_fine_tune = model.fit(train_generator, validation_data=val_generator, batch_size = 100, epochs=100, callbacks=[es])\n",
        "# plot_history_class(history_full_fine_tune.history)"
      ],
      "metadata": {
        "id": "16aej_MHaZIo"
      },
      "execution_count": null,
      "outputs": []
    },
    {
      "cell_type": "code",
      "source": [
        "# 모델 저장loss, accuracy = model.evaluate(test_generator)\n",
        "print(\"평가 손실:\", loss)\n",
        "print(\"평가 정확도:\", accuracy)\n",
        "\n",
        "# 모델 저장\n",
        "model.save(\"hdh_cnn_fine-tune[:].h5\")"
      ],
      "metadata": {
        "id": "dNDZW5PEaZP-"
      },
      "execution_count": null,
      "outputs": []
    },
    {
      "cell_type": "markdown",
      "source": [
        "## EfficientNet0"
      ],
      "metadata": {
        "id": "BMnUfGXq72eZ"
      }
    },
    {
      "cell_type": "code",
      "source": [
        "import tensorflow as tf\n",
        "from tensorflow.keras.applications import EfficientNetB0\n",
        "from tensorflow.keras.preprocessing.image import ImageDataGenerator\n",
        "from tensorflow.keras.layers import GlobalAveragePooling2D, Dense, BatchNormalization\n",
        "from tensorflow.keras.callbacks import EarlyStopping\n",
        "from tensorflow.keras.optimizers import Adam\n",
        "\n",
        "\n",
        "# EfficientNet B0 모델 불러오기\n",
        "base_model = EfficientNetB0(weights='imagenet', include_top=False, input_shape=(224, 224, 3))\n",
        "\n",
        "# Batch Normalization 및 Dense 레이어 추가\n",
        "model = tf.keras.Sequential([\n",
        "    base_model,\n",
        "    BatchNormalization(),  # Batch Normalization 추가\n",
        "    GlobalAveragePooling2D(),\n",
        "    Dense(128, activation='relu'),  # 추가적인 Dense 레이어\n",
        "    BatchNormalization(),  # Batch Normalization 추가\n",
        "    Dense(9, activation='softmax')\n",
        "])\n",
        "\n",
        "# 모델 컴파일\n",
        "model.compile(optimizer=Adam(), loss='categorical_crossentropy', metrics=['accuracy'])\n",
        "\n",
        "epochs = 50\n",
        "\n",
        "# EarlyStopping 설정\n",
        "es = EarlyStopping(monitor='val_accuracy', mode='max', verbose=1, patience=5, restore_best_weights=True)\n",
        "\n",
        "\n",
        "# 모델 학습\n",
        "history = model.fit(train_generator, validation_data=val_generator, epochs=epochs, callbacks=[es])\n",
        "\n",
        "# 테스트 데이터셋 평가\n",
        "test_loss, test_accuracy = model.evaluate(test_generator)\n",
        "print(\"Test accuracy: {:.2f}%\".format(test_accuracy * 100))\n"
      ],
      "metadata": {
        "id": "jnft8wtd71tK"
      },
      "execution_count": null,
      "outputs": []
    },
    {
      "cell_type": "code",
      "source": [
        "!pip uninstall tensorflow"
      ],
      "metadata": {
        "id": "HBdpQ8twIQ3V"
      },
      "execution_count": null,
      "outputs": []
    },
    {
      "cell_type": "code",
      "source": [
        "!pip install tensorflow==2.9"
      ],
      "metadata": {
        "id": "QjG37A_mHx7N"
      },
      "execution_count": null,
      "outputs": []
    },
    {
      "cell_type": "code",
      "source": [
        "import tensorflow as tf\n",
        "\n",
        "print(\"TensorFlow 버전:\", tf.__version__)"
      ],
      "metadata": {
        "id": "WkNCbRVxHsb4"
      },
      "execution_count": null,
      "outputs": []
    },
    {
      "cell_type": "code",
      "source": [
        "model.save(\"EfficientNetB0.h5\")"
      ],
      "metadata": {
        "id": "ZzDGp_DHEuwU"
      },
      "execution_count": null,
      "outputs": []
    },
    {
      "cell_type": "markdown",
      "source": [
        "### fine-tune"
      ],
      "metadata": {
        "id": "Yru4y4iF8IUD"
      }
    },
    {
      "cell_type": "code",
      "source": [
        "# 동결된 층을 제외한 나머지 층을 학습\n",
        "for layer in model.layers[:-20]:\n",
        "    layer.trainable = False\n",
        "\n",
        "# 모델 컴파일\n",
        "model.compile(optimizer='adam', loss='categorical_crossentropy', metrics=['accuracy'])\n",
        "\n",
        "# EarlyStopping 설정\n",
        "es = EarlyStopping(monitor='val_loss', mode='min', verbose=1, patience=5, restore_best_weights=True)\n",
        "\n",
        "# 모델 학습\n",
        "history_fine_tune = model.fit(train_generator, validation_data=val_generator, batch_size=50, epochs=100, callbacks=[es])\n",
        "\n",
        "# 테스트 데이터셋 평가\n",
        "test_loss, test_accuracy = model.evaluate(test_generator)\n",
        "print(\"Test accuracy: {:.2f}%\".format(test_accuracy * 100))"
      ],
      "metadata": {
        "id": "TrlxJxmy8BEO"
      },
      "execution_count": null,
      "outputs": []
    },
    {
      "cell_type": "code",
      "source": [
        "# 모델 저장\n",
        "model.save(\"EfficientNet0_fine-tune[:-20].h5\")"
      ],
      "metadata": {
        "id": "ERsbDf4a8SIm"
      },
      "execution_count": null,
      "outputs": []
    },
    {
      "cell_type": "code",
      "source": [
        "# 동결된 층을 제외한 나머지 층을 학습\n",
        "for layer in model.layers[:-60]:\n",
        "    layer.trainable = False\n",
        "\n",
        "# 모델 컴파일\n",
        "model.compile(optimizer='adam', loss='categorical_crossentropy', metrics=['accuracy'])\n",
        "\n",
        "# EarlyStopping 설정\n",
        "es = EarlyStopping(monitor='val_loss', mode='min', verbose=1, patience=5, restore_best_weights=True)\n",
        "\n",
        "# 모델 학습\n",
        "history_fine_tune = model.fit(train_generator, validation_data=val_generator, batch_size=50, epochs=100, callbacks=[es])\n",
        "\n",
        "# 테스트 데이터셋 평가\n",
        "test_loss, test_accuracy = model.evaluate(test_generator)\n",
        "print(\"Test accuracy: {:.2f}%\".format(test_accuracy * 100))"
      ],
      "metadata": {
        "id": "oomAJwQE8SOg"
      },
      "execution_count": null,
      "outputs": []
    },
    {
      "cell_type": "code",
      "source": [
        "loss, accuracy = model.evaluate(test_generator)\n",
        "print(\"평가 손실:\", loss)\n",
        "print(\"평가 정확도:\", accuracy)"
      ],
      "metadata": {
        "id": "BK2lXxY68STc"
      },
      "execution_count": null,
      "outputs": []
    },
    {
      "cell_type": "code",
      "source": [
        "# 모델 저장\n",
        "model.save(\"EfficientNet0_fine-tune[:-60].h5\")"
      ],
      "metadata": {
        "id": "MYmLD2bs8eJa"
      },
      "execution_count": null,
      "outputs": []
    },
    {
      "cell_type": "code",
      "source": [
        "## fine-tune\n",
        "model.trainable = True\n",
        "\n",
        "# EarlyStopping 설정\n",
        "es = EarlyStopping(monitor='val_accuracy', mode='max', verbose=1, patience=5, restore_best_weights=True)\n",
        "\n",
        "# 모델 컴파일\n",
        "model.compile(optimizer=Adam(learning_rate=0.00001),\n",
        "              loss='categorical_crossentropy',\n",
        "              metrics=['accuracy'])\n",
        "\n",
        "# 전이 학습 수행\n",
        "history = model.fit(train_generator, batch_size=10, validation_data=val_generator, callbacks=[es], epochs=25)"
      ],
      "metadata": {
        "id": "5BbMkLgf8SYd"
      },
      "execution_count": null,
      "outputs": []
    },
    {
      "cell_type": "code",
      "source": [
        "loss, accuracy = model.evaluate(test_generator)\n",
        "print(\"평가 손실:\", loss)\n",
        "print(\"평가 정확도:\", accuracy)"
      ],
      "metadata": {
        "id": "ffxxUZfE8hbi"
      },
      "execution_count": null,
      "outputs": []
    },
    {
      "cell_type": "code",
      "source": [
        "# 모델 저장\n",
        "model.save(\"EfficientNet0_fine-tune[:].h5\")"
      ],
      "metadata": {
        "id": "lDpP3lG28hgr"
      },
      "execution_count": null,
      "outputs": []
    },
    {
      "cell_type": "markdown",
      "source": [
        "## EfficientNet1\n"
      ],
      "metadata": {
        "id": "QwVYcJD7WTdW"
      }
    },
    {
      "cell_type": "code",
      "source": [
        "import tensorflow as tf\n",
        "from tensorflow.keras.applications import EfficientNetB1\n",
        "from tensorflow.keras.preprocessing.image import ImageDataGenerator\n",
        "from tensorflow.keras.layers import GlobalAveragePooling2D, Dense, BatchNormalization, Dropout  # Dropout 추가\n",
        "from tensorflow.keras.callbacks import EarlyStopping\n",
        "from tensorflow.keras.optimizers import Adam\n",
        "\n",
        "# EfficientNet B1 모델 불러오기\n",
        "base_model = EfficientNetB1(weights='imagenet', include_top=False, input_shape=(240, 240, 3))\n",
        "\n",
        "# Batch Normalization 및 Dense 레이어 추가\n",
        "model = tf.keras.Sequential([\n",
        "    base_model,\n",
        "    GlobalAveragePooling2D(),\n",
        "    Dense(128, activation='relu'),  # 추가적인 Dense 레이어\n",
        "    BatchNormalization(),  # Batch Normalization 추가\n",
        "    Dropout(0.5),  # Dropout 레이어 추가 (0.5는 드롭아웃 비율, 조절 가능)\n",
        "    Dense(9, activation='softmax')\n",
        "])\n",
        "\n",
        "# 모델 컴파일\n",
        "model.compile(optimizer=Adam(), loss='categorical_crossentropy', metrics=['accuracy'])\n",
        "\n",
        "epochs = 30\n",
        "\n",
        "# EarlyStopping 설정\n",
        "es = EarlyStopping(monitor='val_accuracy', mode='max', verbose=1, patience=5, restore_best_weights=True)\n",
        "\n",
        "# 모델 학습\n",
        "history = model.fit(train_generator, validation_data=val_generator,batch_size=20, epochs=epochs, callbacks=[es])\n",
        "\n",
        "# 테스트 데이터셋 평가\n",
        "test_loss, test_accuracy = model.evaluate(test_generator)\n",
        "print(\"Test accuracy: {:.2f}%\".format(test_accuracy * 100))\n"
      ],
      "metadata": {
        "id": "ee8Iw0q_WS4C"
      },
      "execution_count": null,
      "outputs": []
    },
    {
      "cell_type": "code",
      "source": [
        "model.save('/content/drive/Shareddrives/이미지 인식 프로젝트/모델링/한동훈_모델링/EfficientNet1/EfficientNetB1.keras')"
      ],
      "metadata": {
        "id": "06IY6PW0HLs3"
      },
      "execution_count": null,
      "outputs": []
    },
    {
      "cell_type": "code",
      "source": [
        "model.save(\"EfficientNetB2.h5\")"
      ],
      "metadata": {
        "id": "9uws4-YKWcqc"
      },
      "execution_count": null,
      "outputs": []
    },
    {
      "cell_type": "markdown",
      "source": [
        "### fine-tune"
      ],
      "metadata": {
        "id": "pDpaiEQlWibC"
      }
    },
    {
      "cell_type": "code",
      "source": [
        "# 동결된 층을 제외한 나머지 층을 학습\n",
        "for layer in model.layers[:-20]:\n",
        "    layer.trainable = False\n",
        "\n",
        "# 모델 컴파일\n",
        "model.compile(optimizer='adam', loss='categorical_crossentropy', metrics=['accuracy'])\n",
        "\n",
        "# EarlyStopping 설정\n",
        "es = EarlyStopping(monitor='val_loss', mode='min', verbose=1, patience=5, restore_best_weights=True)\n",
        "\n",
        "# 모델 학습\n",
        "history_fine_tune = model.fit(train_generator, validation_data=val_generator, batch_size=50, epochs=100, callbacks=[es])\n",
        "\n",
        "# 테스트 데이터셋 평가\n",
        "test_loss, test_accuracy = model.evaluate(test_generator)\n",
        "print(\"Test accuracy: {:.2f}%\".format(test_accuracy * 100))"
      ],
      "metadata": {
        "id": "iNPccYRDWcvk"
      },
      "execution_count": null,
      "outputs": []
    },
    {
      "cell_type": "code",
      "source": [
        "# 모델 저장\n",
        "# model.save(\"EfficientNet2_fine-tune[:-20].h5\")"
      ],
      "metadata": {
        "id": "TLE6t_j_Wc0G"
      },
      "execution_count": null,
      "outputs": []
    },
    {
      "cell_type": "code",
      "source": [
        "model.save('/content/drive/Shareddrives/이미지 인식 프로젝트/모델링/한동훈_모델링/EfficientNet1/EfficientNetB1[-:20].keras')"
      ],
      "metadata": {
        "id": "smnkrIzyIRjB"
      },
      "execution_count": null,
      "outputs": []
    },
    {
      "cell_type": "code",
      "source": [
        "# 동결된 층을 제외한 나머지 층을 학습\n",
        "for layer in model.layers[:-60]:\n",
        "    layer.trainable = False\n",
        "\n",
        "# 모델 컴파일\n",
        "model.compile(optimizer='adam', loss='categorical_crossentropy', metrics=['accuracy'])\n",
        "\n",
        "# EarlyStopping 설정\n",
        "es = EarlyStopping(monitor='val_loss', mode='min', verbose=1, patience=5, restore_best_weights=True)\n",
        "\n",
        "# 모델 학습\n",
        "history_fine_tune = model.fit(train_generator, validation_data=val_generator, batch_size=50, epochs=100, callbacks=[es])\n",
        "\n",
        "# 테스트 데이터셋 평가\n",
        "test_loss, test_accuracy = model.evaluate(test_generator)\n",
        "print(\"Test accuracy: {:.2f}%\".format(test_accuracy * 100))"
      ],
      "metadata": {
        "id": "x6T-wcyXWc4b"
      },
      "execution_count": null,
      "outputs": []
    },
    {
      "cell_type": "code",
      "source": [
        "loss, accuracy = model.evaluate(test_generator)\n",
        "print(\"평가 손실:\", loss)\n",
        "print(\"평가 정확도:\", accuracy)"
      ],
      "metadata": {
        "id": "Uflfm-vhWoFF"
      },
      "execution_count": null,
      "outputs": []
    },
    {
      "cell_type": "code",
      "source": [
        "# # 모델 저장\n",
        "# model.save(\"EfficientNet2_fine-tune[:-60].h5\")\n",
        "model.save('/content/drive/Shareddrives/이미지 인식 프로젝트/모델링/한동훈_모델링/EfficientNet1/EfficientNetB1[-:60].keras')"
      ],
      "metadata": {
        "id": "IPX0OjOiWoKn"
      },
      "execution_count": null,
      "outputs": []
    },
    {
      "cell_type": "code",
      "source": [
        "## fine-tune\n",
        "model.trainable = True\n",
        "\n",
        "# EarlyStopping 설정\n",
        "es = EarlyStopping(monitor='val_accuracy', mode='max', verbose=1, patience=5, restore_best_weights=True)\n",
        "\n",
        "# 모델 컴파일\n",
        "model.compile(optimizer=Adam(learning_rate=0.00001),\n",
        "              loss='categorical_crossentropy',\n",
        "              metrics=['accuracy'])\n",
        "\n",
        "# 전이 학습 수행\n",
        "history = model.fit(train_generator, batch_size=10, validation_data=val_generator, callbacks=[es], epochs=25)"
      ],
      "metadata": {
        "id": "Jj7JIJZwWoQJ"
      },
      "execution_count": null,
      "outputs": []
    },
    {
      "cell_type": "code",
      "source": [
        "loss, accuracy = model.evaluate(test_generator)\n",
        "print(\"평가 손실:\", loss)\n",
        "print(\"평가 정확도:\", accuracy)"
      ],
      "metadata": {
        "id": "3NW4ZyyPWyZT"
      },
      "execution_count": null,
      "outputs": []
    },
    {
      "cell_type": "code",
      "source": [
        "# # 모델 저장\n",
        "# model.save(\"EfficientNet2_fine-tune[:].h5\")\n",
        "model.save('/content/drive/Shareddrives/이미지 인식 프로젝트/모델링/한동훈_모델링/EfficientNet1/EfficientNetB1[:].keras')"
      ],
      "metadata": {
        "id": "ebS8IEM5WyeC"
      },
      "execution_count": null,
      "outputs": []
    },
    {
      "cell_type": "code",
      "source": [
        "from tensorflow.keras.models import load_model\n",
        "\n",
        "model_path = '/content/drive/Shareddrives/이미지 인식 프로젝트/모델링/한동훈_모델링/EfficientNet1/EfficientNetB1[:].keras'\n",
        "model = load_model(model_path)\n"
      ],
      "metadata": {
        "id": "SutIyYc0qeNn"
      },
      "execution_count": null,
      "outputs": []
    },
    {
      "cell_type": "code",
      "source": [
        "loss, accuracy = model.evaluate(test_generator)\n",
        "print(\"평가 손실:\", loss)\n",
        "print(\"평가 정확도:\", accuracy)"
      ],
      "metadata": {
        "id": "0XiV256Wq5nK"
      },
      "execution_count": null,
      "outputs": []
    },
    {
      "cell_type": "markdown",
      "source": [
        "## Efficientnet3"
      ],
      "metadata": {
        "id": "wyy3dqD_Q2c0"
      }
    },
    {
      "cell_type": "code",
      "source": [
        "train_generator = train_datagen.flow_from_directory('/content/drive/Shareddrives/이미지 인식 프로젝트/데이터/dataset300/train',batch_size=batch_size, target_size=(300, 300))\n",
        "val_generator = val_datagen.flow_from_directory('/content/drive/Shareddrives/이미지 인식 프로젝트/데이터/dataset300/val',batch_size=batch_size, target_size=(300, 300))\n",
        "test_generator = test_datagen.flow_from_directory('/content/drive/Shareddrives/이미지 인식 프로젝트/데이터/dataset300/test',batch_size=batch_size, target_size=(300, 300))"
      ],
      "metadata": {
        "id": "Nw7ZpNEcROWn"
      },
      "execution_count": null,
      "outputs": []
    },
    {
      "cell_type": "code",
      "source": [
        "import tensorflow as tf\n",
        "from tensorflow.keras.applications import EfficientNetB3\n",
        "from tensorflow.keras.preprocessing.image import ImageDataGenerator\n",
        "from tensorflow.keras.layers import GlobalAveragePooling2D, Dense, BatchNormalization, Dropout  # Dropout 추가\n",
        "from tensorflow.keras.callbacks import EarlyStopping\n",
        "from tensorflow.keras.optimizers import Adam\n",
        "\n",
        "# EfficientNet B1 모델 불러오기\n",
        "base_model = EfficientNetB3(weights='imagenet', include_top=False, input_shape=(240, 240, 3))\n",
        "\n",
        "# Batch Normalization 및 Dense 레이어 추가\n",
        "model = tf.keras.Sequential([\n",
        "    base_model,\n",
        "    GlobalAveragePooling2D(),\n",
        "    Dense(128, activation='relu'),  # 추가적인 Dense 레이어\n",
        "    BatchNormalization(),  # Batch Normalization 추가\n",
        "    Dropout(0.5),  # Dropout 레이어 추가 (0.5는 드롭아웃 비율, 조절 가능)\n",
        "    Dense(9, activation='softmax')\n",
        "])\n",
        "\n",
        "# 모델 컴파일\n",
        "model.compile(optimizer=Adam(), loss='categorical_crossentropy', metrics=['accuracy'])\n",
        "\n",
        "epochs = 30\n",
        "\n",
        "# EarlyStopping 설정\n",
        "es = EarlyStopping(monitor='val_accuracy', mode='max', verbose=1, patience=5, restore_best_weights=True)\n",
        "\n",
        "# 모델 학습\n",
        "history = model.fit(train_generator, validation_data=val_generator,batch_size=20, epochs=epochs, callbacks=[es])\n",
        "\n",
        "# 테스트 데이터셋 평가\n",
        "test_loss, test_accuracy = model.evaluate(test_generator)\n",
        "print(\"Test accuracy: {:.2f}%\".format(test_accuracy * 100))\n"
      ],
      "metadata": {
        "id": "HVcbIHqnQ1C7"
      },
      "execution_count": null,
      "outputs": []
    },
    {
      "cell_type": "code",
      "source": [
        "model.save('/content/drive/Shareddrives/이미지 인식 프로젝트/모델링/한동훈_모델링/EfficientNet3/EfficientNetB3.keras')"
      ],
      "metadata": {
        "id": "Vyj-FbfmQ-XM"
      },
      "execution_count": null,
      "outputs": []
    },
    {
      "cell_type": "markdown",
      "source": [
        "## Efficient4로 사용하기"
      ],
      "metadata": {
        "id": "bFksvBgPMnUa"
      }
    },
    {
      "cell_type": "code",
      "source": [
        "import tensorflow as tf\n",
        "from tensorflow.keras.applications import EfficientNetB4\n",
        "from tensorflow.keras.preprocessing.image import ImageDataGenerator"
      ],
      "metadata": {
        "id": "hfwge0SDMwD9"
      },
      "execution_count": null,
      "outputs": []
    },
    {
      "cell_type": "code",
      "source": [
        "# batch_size = 32\n",
        "# train_datagen = ImageDataGenerator(rescale=1.0/255)\n",
        "# val_datagen = ImageDataGenerator(rescale=1.0/255)\n",
        "# test_datagen = ImageDataGenerator(rescale=1.0/255)\n",
        "\n",
        "# train_generator = train_datagen.flow_from_directory('/content/drive/Shareddrives/이미지 인식 프로젝트/데이터/dataset/train', batch_size=batch_size, target_size=(224, 224))\n",
        "# val_generator = val_datagen.flow_from_directory('/content/drive/Shareddrives/이미지 인식 프로젝트/데이터/dataset/val', batch_size=batch_size, target_size=(224, 224))\n",
        "# test_generator = test_datagen.flow_from_directory('/content/drive/Shareddrives/이미지 인식 프로젝트/데이터/dataset/test', batch_size=batch_size, target_size=(224, 224))"
      ],
      "metadata": {
        "id": "7NSjmTpuPLhY"
      },
      "execution_count": null,
      "outputs": []
    },
    {
      "cell_type": "code",
      "source": [
        "import tensorflow as tf\n",
        "from tensorflow.keras.applications import EfficientNetB4\n",
        "from tensorflow.keras.layers import GlobalAveragePooling2D, Dense, BatchNormalization\n",
        "from tensorflow.keras.callbacks import EarlyStopping\n",
        "from tensorflow.keras.optimizers import Adam"
      ],
      "metadata": {
        "id": "lbTVfDMNK2Ir"
      },
      "execution_count": null,
      "outputs": []
    },
    {
      "cell_type": "code",
      "source": [
        "# EfficientNet B4 모델 불러오기\n",
        "base_model = EfficientNetB4(weights='imagenet', include_top=False, input_shape=(224, 224, 3))\n",
        "\n",
        "# Batch Normalization 및 Dense 레이어 추가\n",
        "model = tf.keras.Sequential([\n",
        "    base_model,\n",
        "    BatchNormalization(),  # Batch Normalization 추가\n",
        "    GlobalAveragePooling2D(),\n",
        "    Dense(128, activation='relu'),  # 추가적인 Dense 레이어\n",
        "    BatchNormalization(),  # Batch Normalization 추가\n",
        "    Dense(9, activation='softmax')\n",
        "])\n",
        "\n",
        "# 모델 컴파일\n",
        "model.compile(optimizer=Adam(), loss='categorical_crossentropy', metrics=['accuracy'])\n",
        "\n",
        "epochs = 50\n",
        "\n",
        "# EarlyStopping 설정\n",
        "es = EarlyStopping(monitor='val_accuracy', mode='max', verbose=1, patience=5, restore_best_weights=True)\n",
        "\n",
        "\n",
        "# 모델 학습\n",
        "history = model.fit(train_generator, validation_data=val_generator, epochs=epochs, callbacks=[es])\n",
        "\n",
        "# 테스트 데이터셋 평가\n",
        "test_loss, test_accuracy = model.evaluate(test_generator)\n",
        "print(\"Test accuracy: {:.2f}%\".format(test_accuracy * 100))"
      ],
      "metadata": {
        "id": "tdtgco9_PQQc"
      },
      "execution_count": null,
      "outputs": []
    },
    {
      "cell_type": "code",
      "source": [
        "loss, accuracy = model.evaluate(test_generator)\n",
        "print(\"평가 손실:\", loss)\n",
        "print(\"평가 정확도:\", accuracy)\n",
        "\n",
        "# 모델 저장32\n",
        "model.save(\"hdh_Efficient4.h5\")"
      ],
      "metadata": {
        "id": "7TppYZXyP45e"
      },
      "execution_count": null,
      "outputs": []
    },
    {
      "cell_type": "code",
      "source": [
        "# model.save('/content/drive/Shareddrives/이미지 인식 프로젝트/모델/한동훈_모델링/EfficientNet4.keras')"
      ],
      "metadata": {
        "id": "ErdKMpzd6t6L"
      },
      "execution_count": null,
      "outputs": []
    },
    {
      "cell_type": "markdown",
      "source": [
        "### fine-tune"
      ],
      "metadata": {
        "id": "cX5qQAuqQgkG"
      }
    },
    {
      "cell_type": "code",
      "source": [
        "# 동결된 층을 제외한 나머지 층을 학습\n",
        "for layer in model.layers[:-20]:\n",
        "    layer.trainable = False\n",
        "\n",
        "# 모델 컴파일\n",
        "model.compile(optimizer='adam', loss='categorical_crossentropy', metrics=['accuracy'])\n",
        "\n",
        "# EarlyStopping 설정\n",
        "es = EarlyStopping(monitor='val_loss', mode='min', verbose=1, patience=5, restore_best_weights=True)\n",
        "\n",
        "# 모델 학습\n",
        "history_fine_tune = model.fit(train_generator, validation_data=val_generator, batch_size=50, epochs=100, callbacks=[es])\n",
        "\n",
        "# 테스트 데이터셋 평가\n",
        "test_loss, test_accuracy = model.evaluate(test_generator)\n",
        "print(\"Test accuracy: {:.2f}%\".format(test_accuracy * 100))"
      ],
      "metadata": {
        "id": "r95ZE15DoXED"
      },
      "execution_count": null,
      "outputs": []
    },
    {
      "cell_type": "code",
      "source": [
        "# loss, accuracy = model.evaluate(test_generator)\n",
        "# print(\"평가 손실:\", loss)\n",
        "# print(\"평가 정확도:\", accuracy)\n",
        "\n",
        "# # 모델 저장\n",
        "# model.save('/content/drive/Shareddrives/이미지 인식 프로젝트/모델/한동훈_모델링/EfficientNet4_fine-tune[:-20].keras')"
      ],
      "metadata": {
        "id": "9DX-sYWfuaom"
      },
      "execution_count": null,
      "outputs": []
    },
    {
      "cell_type": "code",
      "source": [
        "loss, accuracy = model.evaluate(test_generator)\n",
        "print(\"평가 손실:\", loss)\n",
        "print(\"평가 정확도:\", accuracy)\n",
        "\n",
        "# 모델 저장\n",
        "model.save(\"EfficientNet4_fine-tune[:-20].h5\")"
      ],
      "metadata": {
        "id": "P_jEIKdcqPJo"
      },
      "execution_count": null,
      "outputs": []
    },
    {
      "cell_type": "code",
      "source": [
        "import tensorflow as tf\n",
        "from tensorflow.keras.models import load_model\n",
        "\n",
        "# 저장된 모델 불러오기\n",
        "# model = load_model('EfficientNet4_fine-tune[_-20].h5')\n"
      ],
      "metadata": {
        "id": "mDXcqBXIhKm7"
      },
      "execution_count": null,
      "outputs": []
    },
    {
      "cell_type": "code",
      "source": [
        "# 동결된 층을 제외한 나머지 층을 학습\n",
        "for layer in model.layers[:-60]:\n",
        "    layer.trainable = False\n",
        "\n",
        "# 모델 컴파일\n",
        "model.compile(optimizer='adam', loss='categorical_crossentropy', metrics=['accuracy'])\n",
        "\n",
        "# EarlyStopping 설정\n",
        "es = EarlyStopping(monitor='val_loss', mode='min', verbose=1, patience=5, restore_best_weights=True)\n",
        "\n",
        "# 모델 학습\n",
        "history_fine_tune = model.fit(train_generator, validation_data=val_generator, batch_size=50, epochs=100, callbacks=[es])\n",
        "\n",
        "# 테스트 데이터셋 평가\n",
        "test_loss, test_accuracy = model.evaluate(test_generator)\n",
        "print(\"Test accuracy: {:.2f}%\".format(test_accuracy * 100))"
      ],
      "metadata": {
        "id": "1cFEM_gT8Tbz"
      },
      "execution_count": null,
      "outputs": []
    },
    {
      "cell_type": "code",
      "source": [
        "loss, accuracy = model.evaluate(test_generator)\n",
        "print(\"평가 손실:\", loss)\n",
        "print(\"평가 정확도:\", accuracy)\n",
        "\n",
        "# 모델 저장\n",
        "model.save(\"EfficientNet4_fine-tune[:-60].h5\")"
      ],
      "metadata": {
        "id": "WbxjkjsD9cP9"
      },
      "execution_count": null,
      "outputs": []
    },
    {
      "cell_type": "code",
      "source": [
        "import tensorflow as tf\n",
        "from tensorflow.keras.models import load_model\n",
        "\n",
        "# 저장된 모델 불러오기\n",
        "model = load_model('/content/drive/Shareddrives/이미지 인식 프로젝트/모델링/한동훈_모델링/EfficientNet4_fine-tune[:-60].h5')"
      ],
      "metadata": {
        "id": "G7flYZxgLUpZ"
      },
      "execution_count": null,
      "outputs": []
    },
    {
      "cell_type": "code",
      "source": [
        "from keras.callbacks import EarlyStopping"
      ],
      "metadata": {
        "id": "w4ZcTJlceeDn"
      },
      "execution_count": null,
      "outputs": []
    },
    {
      "cell_type": "code",
      "source": [
        "## fine-tune\n",
        "model.trainable = True\n",
        "\n",
        "# EarlyStopping 설정\n",
        "es = EarlyStopping(monitor='val_accuracy', mode='max', verbose=1, patience=5, restore_best_weights=True)\n",
        "\n",
        "# 모델 컴파일\n",
        "model.compile(optimizer=Adam(learning_rate=0.00001),\n",
        "              loss='categorical_crossentropy',\n",
        "              metrics=['accuracy'])\n",
        "\n",
        "# 전이 학습 수행\n",
        "history = model.fit(train_generator, batch_size=10, validation_data=val_generator, callbacks=[es], epochs=25)\n"
      ],
      "metadata": {
        "id": "mUuYl-uK9exn"
      },
      "execution_count": null,
      "outputs": []
    },
    {
      "cell_type": "code",
      "source": [
        "loss, accuracy = model.evaluate(test_generator)\n",
        "print(\"평가 손실:\", loss)\n",
        "print(\"평가 정확도:\", accuracy)\n",
        "\n",
        "# 모델 저장\n",
        "model.save(\"EfficientNet4_fine-tune[:].h5\")"
      ],
      "metadata": {
        "id": "vA2Yby6H3CBv"
      },
      "execution_count": null,
      "outputs": []
    },
    {
      "cell_type": "code",
      "source": [],
      "metadata": {
        "id": "8PK-hK2_oCHo"
      },
      "execution_count": null,
      "outputs": []
    },
    {
      "cell_type": "markdown",
      "source": [
        "## EfficientNet6\n",
        "이미지 사이즈가 커서, RAM이 버티지 못하고 계속 터진다."
      ],
      "metadata": {
        "id": "M1xxpMjXuHVD"
      }
    },
    {
      "cell_type": "code",
      "source": [
        "from google.colab import drive\n",
        "drive.mount('/content/drive')"
      ],
      "metadata": {
        "id": "FNWk1yer0mnm"
      },
      "execution_count": null,
      "outputs": []
    },
    {
      "cell_type": "code",
      "source": [
        "import pickle\n",
        "with open('/content/drive/Shareddrives/이미지 인식 프로젝트/데이터/x_train.pkl','rb') as f:\n",
        "    x_train=pickle.load(f)"
      ],
      "metadata": {
        "id": "0_oHgN2ZvNcT"
      },
      "execution_count": null,
      "outputs": []
    },
    {
      "cell_type": "code",
      "source": [
        "import os"
      ],
      "metadata": {
        "id": "AZgK9RmP0_Pr"
      },
      "execution_count": null,
      "outputs": []
    },
    {
      "cell_type": "code",
      "source": [
        "from tensorflow.keras.preprocessing.image import ImageDataGenerator\n",
        "import tensorflow as tf\n",
        "from tensorflow.keras.layers import GlobalAveragePooling2D, Dense, BatchNormalization\n",
        "from tensorflow.keras.callbacks import EarlyStopping\n",
        "from tensorflow.keras.optimizers import Adam"
      ],
      "metadata": {
        "id": "Dn_Qf8J2vSTi"
      },
      "execution_count": null,
      "outputs": []
    },
    {
      "cell_type": "code",
      "source": [
        "# Efficientnet4 용\n",
        "train_datagen = ImageDataGenerator(\n",
        "    rotation_range=40,\n",
        "    width_shift_range=0.2,\n",
        "    height_shift_range=0.2,\n",
        "    shear_range=0.2,\n",
        "    zoom_range=0.2,\n",
        "    horizontal_flip=True,\n",
        "    vertical_flip=True,\n",
        "    # preprocessing_function=sub_mean_img\n",
        ")\n",
        "\n",
        "val_datagen = ImageDataGenerator()\n",
        "\n",
        "test_datagen = ImageDataGenerator()"
      ],
      "metadata": {
        "id": "LF2WUXR-vS5o"
      },
      "execution_count": null,
      "outputs": []
    },
    {
      "cell_type": "code",
      "source": [
        "batch_size=128"
      ],
      "metadata": {
        "id": "xggAx0hFvS-c"
      },
      "execution_count": null,
      "outputs": []
    },
    {
      "cell_type": "code",
      "source": [
        "directory_path = '/content/drive/Shareddrives/이미지 인식 프로젝트/데이터/dataset600_new/train' # EfficientNet4\n",
        "\n",
        "# 'os.listdir'로 디렉토리 내 파일 목록을 가져오기\n",
        "file_list = os.listdir(directory_path)\n",
        "\n",
        "# 파일 목록을 'train_image' 변수에 할당\n",
        "train_image = file_list\n",
        "train_image"
      ],
      "metadata": {
        "id": "dUajMlc4vTC3"
      },
      "execution_count": null,
      "outputs": []
    },
    {
      "cell_type": "code",
      "source": [
        "directory_path = '/content/drive/Shareddrives/이미지 인식 프로젝트/데이터/dataset600_new/val' # EfficientNet4\n",
        "\n",
        "# 'os.listdir'로 디렉토리 내 파일 목록을 가져오기\n",
        "file_list = os.listdir(directory_path)\n",
        "\n",
        "# 파일 목록을 'train_image' 변수에 할당\n",
        "train_image = file_list\n",
        "train_image"
      ],
      "metadata": {
        "id": "eBtPpKHHvf9K"
      },
      "execution_count": null,
      "outputs": []
    },
    {
      "cell_type": "code",
      "source": [
        "directory_path = '/content/drive/Shareddrives/이미지 인식 프로젝트/데이터/dataset600_new/test' # EfficientNet4\n",
        "\n",
        "# 'os.listdir'로 디렉토리 내 파일 목록을 가져오기\n",
        "file_list = os.listdir(directory_path)\n",
        "\n",
        "# 파일 목록을 'train_image' 변수에 할당\n",
        "train_image = file_list\n",
        "train_image"
      ],
      "metadata": {
        "id": "3TDttjvLvejl"
      },
      "execution_count": null,
      "outputs": []
    },
    {
      "cell_type": "code",
      "source": [
        "train_generator = train_datagen.flow_from_directory('/content/drive/Shareddrives/이미지 인식 프로젝트/데이터/dataset600_new/train',batch_size=batch_size, target_size=(528, 528))\n",
        "val_generator = val_datagen.flow_from_directory('/content/drive/Shareddrives/이미지 인식 프로젝트/데이터/dataset600_new/val',batch_size=batch_size, target_size=(528, 528))\n",
        "test_generator = test_datagen.flow_from_directory('/content/drive/Shareddrives/이미지 인식 프로젝트/데이터/dataset600_new/test',batch_size=batch_size, target_size=(528, 528))"
      ],
      "metadata": {
        "id": "YmoWS3eUven6"
      },
      "execution_count": null,
      "outputs": []
    },
    {
      "cell_type": "code",
      "source": [
        "from tensorflow.keras.applications import EfficientNetB6\n",
        "# EfficientNetB6 모델 불러오기\n",
        "base_model = EfficientNetB6(weights='imagenet', include_top=False)\n",
        "\n",
        "# 모델 커스터마이즈\n",
        "x = GlobalAveragePooling2D()(base_model.output)\n",
        "x = Dense(1024, activation='relu')(x)\n",
        "output = Dense(9, activation='softmax')(x)\n",
        "\n",
        "# 새로운 모델 생성\n",
        "model = Model(inputs=base_model.input, outputs=output)\n",
        "\n",
        "# 모델 컴파일\n",
        "model.compile(optimizer='adam', loss='categorical_crossentropy', metrics=['accuracy'])"
      ],
      "metadata": {
        "id": "1O75mmKwuKyS"
      },
      "execution_count": null,
      "outputs": []
    },
    {
      "cell_type": "code",
      "source": [
        "# 모델 학습\n",
        "history = model.fit(train_generator, validation_data=val_generator, epochs=epochs, callbacks=[es])"
      ],
      "metadata": {
        "id": "btm9zSaiwFMk"
      },
      "execution_count": null,
      "outputs": []
    },
    {
      "cell_type": "code",
      "source": [
        "# 테스트 데이터셋 평가\n",
        "test_loss, test_accuracy = model.evaluate(test_generator)\n",
        "print(\"Test accuracy: {:.2f}%\".format(test_accuracy * 100))"
      ],
      "metadata": {
        "id": "24HHNWmMwFnL"
      },
      "execution_count": null,
      "outputs": []
    },
    {
      "cell_type": "code",
      "source": [
        "model.save(\"EfficientNet6.h5\")"
      ],
      "metadata": {
        "id": "l8FCyCUSwII7"
      },
      "execution_count": null,
      "outputs": []
    },
    {
      "cell_type": "code",
      "source": [],
      "metadata": {
        "id": "k0MO0bx6w_Js"
      },
      "execution_count": null,
      "outputs": []
    }
  ]
}