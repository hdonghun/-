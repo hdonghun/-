{
  "nbformat": 4,
  "nbformat_minor": 0,
  "metadata": {
    "colab": {
      "provenance": []
    },
    "kernelspec": {
      "name": "python3",
      "display_name": "Python 3"
    },
    "language_info": {
      "name": "python"
    }
  },
  "cells": [
    {
      "cell_type": "code",
      "execution_count": null,
      "metadata": {
        "colab": {
          "base_uri": "https://localhost:8080/"
        },
        "id": "n5XPx83iyuwe",
        "outputId": "e8cb9d8a-9a2c-4666-a2a8-d648de36f659"
      },
      "outputs": [
        {
          "output_type": "stream",
          "name": "stdout",
          "text": [
            "Mounted at /content/drive\n"
          ]
        }
      ],
      "source": [
        "from google.colab import drive\n",
        "drive.mount('/content/drive')"
      ]
    },
    {
      "cell_type": "code",
      "source": [
        "import numpy as np\n",
        "import os\n",
        "import tensorflow as tf\n",
        "from tensorflow.keras.preprocessing.image import ImageDataGenerator"
      ],
      "metadata": {
        "id": "U3vCCCHSywD7"
      },
      "execution_count": null,
      "outputs": []
    },
    {
      "cell_type": "code",
      "source": [
        "from tensorflow.keras.applications import EfficientNetB4\n",
        "from tensorflow.keras.preprocessing.image import ImageDataGenerator\n",
        "from keras.callbacks import EarlyStopping\n",
        "from keras.models import Sequential\n",
        "from keras.layers import Conv2D, MaxPooling2D, Flatten, Dense, Dropout\n",
        "from keras.optimizers import Adam\n",
        "from tensorflow import keras"
      ],
      "metadata": {
        "id": "OPZ4p94O7yN7"
      },
      "execution_count": null,
      "outputs": []
    },
    {
      "cell_type": "code",
      "source": [
        "from keras.models import load_model\n",
        "model1 = load_model(\"/content/drive/Shareddrives/이미지 인식 프로젝트/모델링/한동훈_모델링/EfficientNet4_fine-tune[:-60].h5\")\n",
        "model2 = load_model(\"/content/drive/Shareddrives/이미지 인식 프로젝트/모델링/한동훈_모델링/EfficientNet4_fine-tune[_-20].h5\")\n",
        "model3 = load_model(\"/content/drive/Shareddrives/이미지 인식 프로젝트/모델링/한동훈_모델링/hdh_Efficient4.h5\")"
      ],
      "metadata": {
        "id": "PBfgWr2o00ut"
      },
      "execution_count": null,
      "outputs": []
    },
    {
      "cell_type": "code",
      "source": [
        "import pickle\n",
        "with open('/content/drive/Shareddrives/이미지 인식 프로젝트/데이터/x_train.pkl','rb') as f:\n",
        "    x_train=pickle.load(f)"
      ],
      "metadata": {
        "id": "eZ5Nggo0y24F"
      },
      "execution_count": null,
      "outputs": []
    },
    {
      "cell_type": "code",
      "source": [
        "train_datagen = ImageDataGenerator(\n",
        "    rotation_range=40,\n",
        "    width_shift_range=0.2,\n",
        "    height_shift_range=0.2,\n",
        "    shear_range=0.2,\n",
        "    zoom_range=0.2,\n",
        "    horizontal_flip=True,\n",
        "    vertical_flip=True,\n",
        "    # preprocessing_function=sub_mean_img\n",
        ")\n",
        "\n",
        "batch_size=128\n",
        "\n",
        "val_datagen = ImageDataGenerator()\n",
        "\n",
        "test_datagen = ImageDataGenerator()"
      ],
      "metadata": {
        "id": "pWa8h3Isy20t"
      },
      "execution_count": null,
      "outputs": []
    },
    {
      "cell_type": "code",
      "source": [
        "import os\n",
        "\n",
        "# 디렉토리 경로 설정\n",
        "# directory_path = '/content/drive/Shareddrives/이미지 인식 프로젝트/데이터/dataset/train'\n",
        "directory_path = '/content/drive/Shareddrives/이미지 인식 프로젝트/데이터/dataset300/train'\n",
        "\n",
        "# 'os.listdir'로 디렉토리 내 파일 목록을 가져오기\n",
        "file_list = os.listdir(directory_path)\n",
        "\n",
        "# 파일 목록을 'train_image' 변수에 할당\n",
        "train_image = file_list\n",
        "train_image"
      ],
      "metadata": {
        "colab": {
          "base_uri": "https://localhost:8080/"
        },
        "id": "uoehPHGzy2x8",
        "outputId": "e63d2f55-51c5-4a26-b7ed-c061ade6e8f3"
      },
      "execution_count": null,
      "outputs": [
        {
          "output_type": "execute_result",
          "data": {
            "text/plain": [
              "['양호',\n",
              " '복합성',\n",
              " '지루성',\n",
              " '비듬성',\n",
              " '지성',\n",
              " '탈모성',\n",
              " '건성',\n",
              " '민감성',\n",
              " '염증성']"
            ]
          },
          "metadata": {},
          "execution_count": 10
        }
      ]
    },
    {
      "cell_type": "code",
      "source": [
        "import os\n",
        "\n",
        "# 디렉토리 경로 설정\n",
        "# directory_path = '/content/drive/Shareddrives/이미지 인식 프로젝트/데이터/dataset/val'\n",
        "directory_path = '/content/drive/Shareddrives/이미지 인식 프로젝트/데이터/dataset300/val'\n",
        "\n",
        "\n",
        "# 'os.listdir'로 디렉토리 내 파일 목록을 가져오기\n",
        "file_list = os.listdir(directory_path)\n",
        "\n",
        "# 파일 목록을 'train_image' 변수에 할당\n",
        "val_image = file_list\n",
        "val_image"
      ],
      "metadata": {
        "colab": {
          "base_uri": "https://localhost:8080/"
        },
        "id": "Z5pLvq2Ny2vb",
        "outputId": "aab19125-8a03-49c5-dd39-5abd6f37620b"
      },
      "execution_count": null,
      "outputs": [
        {
          "output_type": "execute_result",
          "data": {
            "text/plain": [
              "['양호',\n",
              " '복합성',\n",
              " '지루성',\n",
              " '비듬성',\n",
              " '지성',\n",
              " '탈모성',\n",
              " '건성',\n",
              " '민감성',\n",
              " '염증성']"
            ]
          },
          "metadata": {},
          "execution_count": 11
        }
      ]
    },
    {
      "cell_type": "code",
      "source": [
        "directory_path = '/content/drive/Shareddrives/이미지 인식 프로젝트/데이터/dataset300/test'\n",
        "\n",
        "\n",
        "# 'os.listdir'로 디렉토리 내 파일 목록을 가져오기\n",
        "file_list = os.listdir(directory_path)\n",
        "\n",
        "# 파일 목록을 'train_image' 변수에 할당\n",
        "test_image = file_list\n",
        "test_image"
      ],
      "metadata": {
        "colab": {
          "base_uri": "https://localhost:8080/"
        },
        "id": "K-WqjagU4i7m",
        "outputId": "33c41804-782f-4a33-827a-ed1b7eff14e6"
      },
      "execution_count": null,
      "outputs": [
        {
          "output_type": "execute_result",
          "data": {
            "text/plain": [
              "['양호',\n",
              " '복합성',\n",
              " '지루성',\n",
              " '비듬성',\n",
              " '지성',\n",
              " '탈모성',\n",
              " '건성',\n",
              " '민감성',\n",
              " '염증성']"
            ]
          },
          "metadata": {},
          "execution_count": 12
        }
      ]
    },
    {
      "cell_type": "code",
      "source": [
        "train_generator = train_datagen.flow_from_directory('/content/drive/Shareddrives/이미지 인식 프로젝트/데이터/dataset300/train',batch_size=batch_size, target_size=(224, 224))\n",
        "val_generator = val_datagen.flow_from_directory('/content/drive/Shareddrives/이미지 인식 프로젝트/데이터/dataset300/val',batch_size=batch_size, target_size=(224, 224))\n",
        "test_generator = test_datagen.flow_from_directory('/content/drive/Shareddrives/이미지 인식 프로젝트/데이터/dataset300/test',batch_size=batch_size, target_size=(224, 224))"
      ],
      "metadata": {
        "colab": {
          "base_uri": "https://localhost:8080/"
        },
        "id": "niA6_sTJ4i37",
        "outputId": "eabc7c25-3d59-41d2-daff-906b5d7576ec"
      },
      "execution_count": null,
      "outputs": [
        {
          "output_type": "stream",
          "name": "stdout",
          "text": [
            "Found 6444 images belonging to 9 classes.\n",
            "Found 2146 images belonging to 9 classes.\n",
            "Found 2155 images belonging to 9 classes.\n"
          ]
        }
      ]
    },
    {
      "cell_type": "code",
      "source": [
        "X_train, y_train = train_generator.next()\n",
        "X_test, y_test = test_generator.next()"
      ],
      "metadata": {
        "id": "BftANsMv5P3_"
      },
      "execution_count": null,
      "outputs": []
    },
    {
      "cell_type": "code",
      "source": [
        "X_test.shape, y_test.shape"
      ],
      "metadata": {
        "colab": {
          "base_uri": "https://localhost:8080/"
        },
        "id": "IFkKPX1f8F1V",
        "outputId": "9b7720fd-b4eb-4d8d-b765-8f30f5713e5b"
      },
      "execution_count": null,
      "outputs": [
        {
          "output_type": "execute_result",
          "data": {
            "text/plain": [
              "((128, 224, 224, 3), (128, 9))"
            ]
          },
          "metadata": {},
          "execution_count": 19
        }
      ]
    },
    {
      "cell_type": "code",
      "source": [
        "# 라벨 설정\n",
        "class_names = test_image"
      ],
      "metadata": {
        "id": "SEC-RR8l8Wzt"
      },
      "execution_count": null,
      "outputs": []
    },
    {
      "cell_type": "code",
      "source": [
        "pred_v1 = model1.predict(X_test)\n",
        "pred_v2 = model2.predict(X_test)\n",
        "pred_v3 = model3.predict(X_test)"
      ],
      "metadata": {
        "colab": {
          "base_uri": "https://localhost:8080/"
        },
        "id": "HHuGnMib4rpW",
        "outputId": "75d29ef8-f7c2-4ad6-ec34-67087c82ea42"
      },
      "execution_count": null,
      "outputs": [
        {
          "output_type": "stream",
          "name": "stdout",
          "text": [
            "4/4 [==============================] - 31s 6s/step\n",
            "4/4 [==============================] - 32s 7s/step\n",
            "4/4 [==============================] - 43s 8s/step\n"
          ]
        }
      ]
    },
    {
      "cell_type": "code",
      "source": [
        "from sklearn.metrics import accuracy_score\n",
        "\n",
        "y_test = np.argmax(y_test, axis=1)\n",
        "\n",
        "score_v1 = accuracy_score(np.argmax(pred_v1, axis=1), y_test)\n",
        "score_v2 = accuracy_score(np.argmax(pred_v2, axis=1), y_test)\n",
        "score_v3 = accuracy_score(np.argmax(pred_v3, axis=1), y_test)\n",
        "\n",
        "print(f'score_v1 : {score_v1}')\n",
        "print(f'score_v2 : {score_v2}')\n",
        "print(f'score_v3 : {score_v3}')"
      ],
      "metadata": {
        "colab": {
          "base_uri": "https://localhost:8080/"
        },
        "id": "5mHTKblB4rl8",
        "outputId": "c44ef5df-1fc5-449b-c594-5fd0b7c05d15"
      },
      "execution_count": null,
      "outputs": [
        {
          "output_type": "stream",
          "name": "stdout",
          "text": [
            "score_v1 : 0.640625\n",
            "score_v2 : 0.671875\n",
            "score_v3 : 0.625\n"
          ]
        }
      ]
    },
    {
      "cell_type": "code",
      "source": [
        "pred_ensemble = np.mean([pred_v1, pred_v2, pred_v3], axis=0)\n",
        "\n",
        "pred_ensemble = np.argmax(pred_ensemble, axis=1)\n",
        "accuracy_score(pred_ensemble, y_test)"
      ],
      "metadata": {
        "colab": {
          "base_uri": "https://localhost:8080/"
        },
        "id": "nNeepQfh4rj7",
        "outputId": "83849e67-7189-42f2-f9a8-122c20ae1fec"
      },
      "execution_count": null,
      "outputs": [
        {
          "output_type": "execute_result",
          "data": {
            "text/plain": [
              "0.7265625"
            ]
          },
          "metadata": {},
          "execution_count": 23
        }
      ]
    },
    {
      "cell_type": "code",
      "source": [],
      "metadata": {
        "id": "w1-Gbbrz9fzX"
      },
      "execution_count": null,
      "outputs": []
    }
  ]
}